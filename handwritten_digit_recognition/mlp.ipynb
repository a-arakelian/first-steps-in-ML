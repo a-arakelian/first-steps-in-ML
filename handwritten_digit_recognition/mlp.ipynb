{
 "cells": [
  {
   "cell_type": "code",
   "execution_count": 46,
   "id": "8c83f4f2-05bc-4bf5-bedc-3b77657e9a7d",
   "metadata": {},
   "outputs": [],
   "source": [
    "from MLP_manual.mlp import MLP"
   ]
  },
  {
   "cell_type": "markdown",
   "id": "9ac45c39-b980-40af-b187-3c71e6979253",
   "metadata": {},
   "source": [
    "Learning to sum numbers from 0 to 1"
   ]
  },
  {
   "cell_type": "code",
   "execution_count": 48,
   "id": "d21b142b-91d7-4343-8f39-d7ea1ad98e01",
   "metadata": {},
   "outputs": [],
   "source": [
    "mlp_mul = MLP(2, [2], 1)"
   ]
  },
  {
   "cell_type": "code",
   "execution_count": 49,
   "id": "cd8506f6-124f-465e-bcc6-11d552b3112d",
   "metadata": {},
   "outputs": [],
   "source": [
    "X = np.random.rand(2, 5000)"
   ]
  },
  {
   "cell_type": "code",
   "execution_count": 50,
   "id": "8a33de50-5d6c-4e03-9156-88c789d31f52",
   "metadata": {},
   "outputs": [],
   "source": [
    "Y = X[0] * X[1]"
   ]
  },
  {
   "cell_type": "code",
   "execution_count": 56,
   "id": "31c2b59d-2509-4c31-adad-bf9d0267af7f",
   "metadata": {},
   "outputs": [],
   "source": [
    "mlp_mul.fit(X, Y, 10000, 5)"
   ]
  },
  {
   "cell_type": "code",
   "execution_count": 55,
   "id": "6bd187b2-20a0-4e14-858d-e6f6b72fae09",
   "metadata": {},
   "outputs": [
    {
     "name": "stdout",
     "output_type": "stream",
     "text": [
      "[[0.4171642  0.52319888 0.51340882 0.31661145 0.90369721]\n",
      " [0.97776458 0.57058395 0.1512756  0.09840329 0.61013899]]\n",
      "Actual multiplication\n",
      "[0.40788838 0.29852888 0.07766623 0.03115561 0.5513809 ]\n",
      "What mlp thinks about multiplication\n",
      "[[0.42343674 0.31508357 0.07778883 0.04075884 0.59960207]]\n"
     ]
    }
   ],
   "source": [
    "X_test = np.random.rand(2, 5)\n",
    "print(X_test)\n",
    "print('Actual multiplication')\n",
    "print(X_test[0] * X_test[1])\n",
    "print('What mlp thinks about multiplication')\n",
    "print(mlp_mul.forward_propagat(X_test))"
   ]
  },
  {
   "cell_type": "markdown",
   "id": "c47cba61-4aa4-4d63-8b64-bc893d73d29d",
   "metadata": {},
   "source": [
    "## here is digit recognition mlp"
   ]
  },
  {
   "cell_type": "code",
   "execution_count": 9,
   "id": "e1610bf2-22e7-47de-a3ab-52990a84afc7",
   "metadata": {},
   "outputs": [],
   "source": [
    "from get_dataset import DigitExample, show_array_as_image, jpg2data"
   ]
  },
  {
   "cell_type": "code",
   "execution_count": 40,
   "id": "9581e0ef-9e34-4879-8a96-1357a3b8aa02",
   "metadata": {},
   "outputs": [],
   "source": [
    "X_data, Y_target = jpg2data(N = 3000)"
   ]
  },
  {
   "cell_type": "code",
   "execution_count": 43,
   "id": "06e1b40a-31dd-41b2-8118-de8fc4e622e4",
   "metadata": {},
   "outputs": [],
   "source": [
    "mlp_digit = MLP()"
   ]
  },
  {
   "cell_type": "code",
   "execution_count": 44,
   "id": "871120a6-e7e4-48f3-960e-b1674ca1423f",
   "metadata": {},
   "outputs": [
    {
     "name": "stderr",
     "output_type": "stream",
     "text": [
      "/home/aram/ml_github/first-steps-in-ML/handwritten_digit_recognition/MLP_manual/mlp.py:7: RuntimeWarning: overflow encountered in exp\n",
      "  self.sigma_activation =  lambda x: 1/ (np.exp(-x) + 1)\n"
     ]
    }
   ],
   "source": [
    "mlp_digit.fit(X_data.T, Y_target.T, 1000, 5)"
   ]
  },
  {
   "cell_type": "code",
   "execution_count": 62,
   "id": "cd456783-2cb7-41b3-9b49-403b5bf421d6",
   "metadata": {},
   "outputs": [
    {
     "name": "stdout",
     "output_type": "stream",
     "text": [
      "4\n"
     ]
    },
    {
     "data": {
      "image/png": "[encoded data removed]",
      "text/plain": [
       "<Figure size 640x480 with 1 Axes>"
      ]
     },
     "metadata": {},
     "output_type": "display_data"
    }
   ],
   "source": [
    "a = 10000\n",
    "show_array_as_image(X_data[a].reshape(28, 28), mlp_digit.forward_propagat(X_data[a].T).reshape(-1,))"
   ]
  },
  {
   "cell_type": "code",
   "execution_count": null,
   "id": "bca49c2e-068a-497b-9bef-a56a7a181ab6",
   "metadata": {},
   "outputs": [],
   "source": []
  }
 ],
 "metadata": {
  "kernelspec": {
   "display_name": "Python 3 (ipykernel)",
   "language": "python",
   "name": "python3"
  },
  "language_info": {
   "codemirror_mode": {
    "name": "ipython",
    "version": 3
   },
   "file_extension": ".py",
   "mimetype": "text/x-python",
   "name": "python",
   "nbconvert_exporter": "python",
   "pygments_lexer": "ipython3",
   "version": "3.10.6"
  }
 },
 "nbformat": 4,
 "nbformat_minor": 5
}
