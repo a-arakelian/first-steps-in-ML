{
 "cells": [
  {
   "cell_type": "code",
   "execution_count": 1,
   "id": "8c83f4f2-05bc-4bf5-bedc-3b77657e9a7d",
   "metadata": {},
   "outputs": [],
   "source": [
    "import numpy as np"
   ]
  },
  {
   "cell_type": "code",
   "execution_count": 60,
   "id": "463e72e1-24b2-4160-9144-e22984f24c19",
   "metadata": {},
   "outputs": [],
   "source": [
    "class MLP:\n",
    "    def __init__(self, input_size = 28*28, hidden_layers_sizes = [16*10, 8*10, 2*10], output_size = 10):\n",
    "        self.output_size = output_size\n",
    "        self.sigma_activation =  lambda x: 1/ (np.exp(-x) + 1)\n",
    "        self.sigma_gradient = lambda x: self.sigma_activation(x)*self.sigma_activation(-x)\n",
    "        self.layers_sizes = [input_size] + hidden_layers_sizes + [output_size]\n",
    "        #Affine transformations between layers are performed by numpy matrices and arrays\n",
    "        self.weights = []\n",
    "        self.biases = []\n",
    "        for i in range(len(self.layers_sizes) - 1):\n",
    "            self.weights.append(np.random.rand(self.layers_sizes[i+1], self.layers_sizes[i]))\n",
    "            self.biases.append(np.random.rand(self.layers_sizes[i+1], 1))\n",
    "        self.activations = []\n",
    "        self.gradients_of_weights = []\n",
    "        self.gradients_of_biases = []\n",
    "    def forward_propagat(self, data_in: np.array):\n",
    "        data = self._prepare_input(data_in)\n",
    "        self.activations = [data]\n",
    "        for i in range(len(self.weights)):\n",
    "            transform = self.weights[i]@self.activations[i] + self.biases[i]\n",
    "            self.activations.append(self.sigma_activation(transform))\n",
    "        return self.activations[-1]\n",
    "        \n",
    "    def _prepare_input(self, data_in: np.array):\n",
    "        data_in.shape = (self.layers_sizes[0], -1) # + 1 is bias\n",
    "        return data_in\n",
    "    \n",
    "    def _prepare_output(self, target: np.array):\n",
    "        target.shape = (self.output_size, -1)\n",
    "        if target.shape[1] != self.activations[-1].shape[1]:\n",
    "            print(\"Number of samples of data and target do not match!!!\")\n",
    "        return target\n",
    "    \n",
    "    def backward_propagat(self, target):\n",
    "        y = self._prepare_input(target)\n",
    "        # Loss function is sum_{by samples}(<y - y', y - y'>) where y, y' \\in R^d (d = 10)\n",
    "        # As tr(A.T@B) = sum_ij(a_ij*b_ij) loss function is tr((Y_pr - Y).T@(Y_pr - Y)). So L(Y_pr) = tr((Y_pr - Y).T@(Y_pr - Y))\n",
    "        # Gradient of L is 2(Y_pr - Y) in terms of [DL](H) = tr(2(Y_pr - Y)H)\n",
    "        gradient_of_loss_function = 2*(self.activations[-1] - y) * self.sigma_gradient(self.weights[-1]@self.activations[-2] + self.biases[-1])\n",
    "        self.gradients_of_weights = []\n",
    "        self.gradients_of_biases = []\n",
    "        for i in reversed(range(len(self.weights))):\n",
    "            \n",
    "            \n",
    "        \n"
   ]
  },
  {
   "cell_type": "code",
   "execution_count": 61,
   "id": "d21b142b-91d7-4343-8f39-d7ea1ad98e01",
   "metadata": {},
   "outputs": [],
   "source": [
    "mlp = MLP(2, [2, 1], 1)"
   ]
  },
  {
   "cell_type": "code",
   "execution_count": 62,
   "id": "cd8506f6-124f-465e-bcc6-11d552b3112d",
   "metadata": {},
   "outputs": [],
   "source": [
    "a_1 = np.array([0, 0.5])\n",
    "a_5 = np.random.rand(2, 5)"
   ]
  },
  {
   "cell_type": "code",
   "execution_count": 63,
   "id": "8a33de50-5d6c-4e03-9156-88c789d31f52",
   "metadata": {},
   "outputs": [
    {
     "data": {
      "text/plain": [
       "array([[0.77461097]])"
      ]
     },
     "execution_count": 63,
     "metadata": {},
     "output_type": "execute_result"
    }
   ],
   "source": [
    "mlp.forward_propagat(a_1)"
   ]
  },
  {
   "cell_type": "code",
   "execution_count": 64,
   "id": "a5a96416-48fc-407b-8bae-47b3d29e4574",
   "metadata": {},
   "outputs": [
    {
     "data": {
      "text/plain": [
       "array([[0.7748174 , 0.77481632, 0.77563976, 0.77522027, 0.77447037]])"
      ]
     },
     "execution_count": 64,
     "metadata": {},
     "output_type": "execute_result"
    }
   ],
   "source": [
    "mlp.forward_propagat(a_5)"
   ]
  },
  {
   "cell_type": "code",
   "execution_count": 30,
   "id": "93ee2b65-cf2f-4b01-b526-5fac94f72856",
   "metadata": {},
   "outputs": [],
   "source": [
    "a = np.array([[1, 2], [3, 4], [4, 6],])\n",
    "b = np.array([[1, 2], [3, 4], [4, 6],])"
   ]
  },
  {
   "cell_type": "code",
   "execution_count": 31,
   "id": "1646d6d7-47aa-4391-80e8-5980c185e2f9",
   "metadata": {},
   "outputs": [
    {
     "name": "stdout",
     "output_type": "stream",
     "text": [
      "[[1 2]\n",
      " [3 4]\n",
      " [4 6]] \n",
      " [[1 2]\n",
      " [3 4]\n",
      " [4 6]]\n"
     ]
    }
   ],
   "source": [
    "print(a, '\\n', b)"
   ]
  },
  {
   "cell_type": "code",
   "execution_count": 32,
   "id": "07fd0014-a36b-41f0-aedd-079563e2101b",
   "metadata": {},
   "outputs": [
    {
     "data": {
      "text/plain": [
       "array([[ 1,  4],\n",
       "       [ 9, 16],\n",
       "       [16, 36]])"
      ]
     },
     "execution_count": 32,
     "metadata": {},
     "output_type": "execute_result"
    }
   ],
   "source": [
    "a*b"
   ]
  },
  {
   "cell_type": "code",
   "execution_count": 33,
   "id": "2014e24e-f04b-404b-971b-f9da1f23fef6",
   "metadata": {},
   "outputs": [],
   "source": [
    "b = np.array([[1, 2], [3, 4], [4, 6],])"
   ]
  },
  {
   "cell_type": "code",
   "execution_count": 34,
   "id": "beda7f33-b301-43b1-8660-98026fc3b523",
   "metadata": {},
   "outputs": [
    {
     "data": {
      "text/plain": [
       "array([1, 2, 3, 4, 4, 6])"
      ]
     },
     "execution_count": 34,
     "metadata": {},
     "output_type": "execute_result"
    }
   ],
   "source": [
    "b.shape(-1,)"
   ]
  },
  {
   "cell_type": "code",
   "execution_count": 35,
   "id": "f22b16c6-216c-4f51-84ee-6426c9fbc561",
   "metadata": {},
   "outputs": [],
   "source": [
    "c = b"
   ]
  },
  {
   "cell_type": "code",
   "execution_count": 36,
   "id": "2534d6c1-f88c-4f19-99e2-f2b8b6071dfa",
   "metadata": {},
   "outputs": [],
   "source": [
    "c *= 8"
   ]
  },
  {
   "cell_type": "code",
   "execution_count": 37,
   "id": "16ec8cff-f2be-4821-8215-f4e109923d54",
   "metadata": {},
   "outputs": [
    {
     "data": {
      "text/plain": [
       "array([[ 8, 16],\n",
       "       [24, 32],\n",
       "       [32, 48]])"
      ]
     },
     "execution_count": 37,
     "metadata": {},
     "output_type": "execute_result"
    }
   ],
   "source": [
    "c"
   ]
  },
  {
   "cell_type": "code",
   "execution_count": 38,
   "id": "f7b75c68-b32d-4856-8272-faa5a014022c",
   "metadata": {},
   "outputs": [
    {
     "data": {
      "text/plain": [
       "array([[ 8, 16],\n",
       "       [24, 32],\n",
       "       [32, 48]])"
      ]
     },
     "execution_count": 38,
     "metadata": {},
     "output_type": "execute_result"
    }
   ],
   "source": [
    "b"
   ]
  },
  {
   "cell_type": "code",
   "execution_count": null,
   "id": "b3f7f556-4293-4858-96ac-dfc0eb6a757f",
   "metadata": {},
   "outputs": [],
   "source": []
  }
 ],
 "metadata": {
  "kernelspec": {
   "display_name": "Python 3 (ipykernel)",
   "language": "python",
   "name": "python3"
  },
  "language_info": {
   "codemirror_mode": {
    "name": "ipython",
    "version": 3
   },
   "file_extension": ".py",
   "mimetype": "text/x-python",
   "name": "python",
   "nbconvert_exporter": "python",
   "pygments_lexer": "ipython3",
   "version": "3.10.6"
  }
 },
 "nbformat": 4,
 "nbformat_minor": 5
}
