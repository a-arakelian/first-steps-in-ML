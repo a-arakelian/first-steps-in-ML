{
 "cells": [
  {
   "cell_type": "code",
   "execution_count": 1,
   "id": "6e1cdede-a772-4403-bdd9-1a9e26039de0",
   "metadata": {},
   "outputs": [],
   "source": [
    "from get_dataset import DigitExample"
   ]
  },
  {
   "cell_type": "code",
   "execution_count": 2,
   "id": "49402af6-a742-450b-8e8c-e29270694217",
   "metadata": {},
   "outputs": [],
   "source": [
    "ex = DigitExample(['4'])"
   ]
  },
  {
   "cell_type": "code",
   "execution_count": 3,
   "id": "4e11c10f-25de-4e02-b842-2ab3c649354b",
   "metadata": {},
   "outputs": [
    {
     "data": {
      "image/png": "[encoded data removed]",
      "text/plain": [
       "<Figure size 640x480 with 1 Axes>"
      ]
     },
     "metadata": {},
     "output_type": "display_data"
    }
   ],
   "source": [
    "ex.matplot_show()"
   ]
  },
  {
   "cell_type": "code",
   "execution_count": 4,
   "id": "7ec8595d-13fd-4832-8e0c-c67c66b0ff60",
   "metadata": {},
   "outputs": [
    {
     "name": "stdout",
     "output_type": "stream",
     "text": [
      "The digit is 4\n",
      "[[  0   0   0   0   0   0   0   0   0   0   0   0   0   0   0   0   2   0\n",
      "    2   4   0  10   0   0   0   0   0   0]\n",
      " [  0   0   0   0   0   0   0   0   0   0   0   0   0   0   0   0  19   7\n",
      "    8   0   0   0   0   5   0   0   0   0]\n",
      " [  0   0   0   0   0   0   0   0   0   0   0   0   0   0   0   0   0   5\n",
      "    0   0  20   2   0   2   0   0   0   0]\n",
      " [  0   0   0   0   0   0   0   0   0   0   0   0   0   0   0   0   2  11\n",
      "    6   7   0   0  18   0   0   0   0   0]\n",
      " [  0   0   0   0   0   0   0   0   0   0   0   0   0   0   0   0   0   0\n",
      "    0   5   0 103 218 134   0   0   0   0]\n",
      " [  0   0   0   0   0   0   0   0   0   0   0   0   0   0   0   0   0  15\n",
      "    0   0  96 229 229 110   0   0   0   0]\n",
      " [  0   0   0   0   0   0   0   0   0   0   0   0   0   0   0   0   0  16\n",
      "    0  40 219 255 104   4   0   0   0   0]\n",
      " [  0   0   0   0   0   0   0   0   0   0   0   0   0   0   0   0   7   0\n",
      "   45 155 255 231  78  10   0   0   0   0]\n",
      " [  0   3   6   1   0   2   2   0   0   0   0   4   0   1   9   0   0   8\n",
      "   51 255 255  92  12   0   0   0   0   0]\n",
      " [  0   4   3   0   0   0   0   0   4  15   0   0  13   0   0   6  12  56\n",
      "  209 255 230  70   0  12   0   0   0   0]\n",
      " [  2   3   0   0   0   1   1   0  77  88 166 255 217  39  15  97  74 217\n",
      "  251 242 255 187   5   0   0   0   0   0]\n",
      " [  1   0   0   0   2   5   4   2   1   4 140 255 199   4   0   0  17 221\n",
      "  255 225  68   0   5   1   0   0   0   0]\n",
      " [  0   0   0   2   4   2   0   0   1  38 201 255 217   0   0   9  93 248\n",
      "  255 237  35  15   0   2   0   0   0   0]\n",
      " [  0   0   1   3   0   0   0   0   0 240 249 224  20  14   5  69 239 246\n",
      "  255  88   0  43   0   0   0   0   0   0]\n",
      " [  0   0   2   3   0   0   1  11  65 240 255 239 219 186 232 255 253 255\n",
      "  254  36 128  12   0   2   0   0   0   0]\n",
      " [  0   0   2   3   0   0  12  29 218 255 228 255 255 248 255 245 255 225\n",
      "  115 209 153   0   8   5   0   0   0   0]\n",
      " [ 10   0   3   0   0   0 169 245 255 255 246 239 219 220 246 255 181   7\n",
      "   76 255  55   0   5   5   0   0   0   0]\n",
      " [  0   0   9   0  14  60 224 255 236 227  63  63   0 200 255 243  86   0\n",
      "   35 146  12   0   4   0   0   0   0   0]\n",
      " [  0   2  13   0   0   8 164 247 212  42   0   0  52 255 247 163  10   0\n",
      "    1  32   0   8   2   0   0   0   0   0]\n",
      " [ 15   0   0   3   8   0  40  61  27   0  23   0 156 255 251  13   0   8\n",
      "    0   0   1   3   0   8   0   0   0   0]\n",
      " [  0   0   1   0   6   1   3   0   8   0   0 117 255 230 141  13   6   4\n",
      "    0   0   7   0   0   8   0   0   0   0]\n",
      " [  0   5   9   0   0   0   2  17   0   0   0 247 248 227   0   0   0   0\n",
      "    7   0   2   0   3   0   0   0   0   0]\n",
      " [ 10   0   0   7  20   5   0   0   0  10 139 233 223  26  29   0   0   0\n",
      "    5   0   3   0   6   0   0   0   0   0]\n",
      " [  0   4   1   0   0   8   0   2   0   2 179 234  70   1   0   4   3   0\n",
      "    0   0   8   0   0   2   0   0   0   0]\n",
      " [  0   0   0   0   0   0   0   0   0   0   0   0   0   0   0   0   0   0\n",
      "    0   0   0   0   0   0   0   0   0   0]\n",
      " [  0   0   0   0   0   0   0   0   0   0   0   0   0   0   0   0   0   0\n",
      "    0   0   0   0   0   0   0   0   0   0]\n",
      " [  0   0   0   0   0   0   0   0   0   0   0   0   0   0   0   0   0   0\n",
      "    0   0   0   0   0   0   0   0   0   0]\n",
      " [  0   0   0   0   0   0   0   0   0   0   0   0   0   0   0   0   0   0\n",
      "    0   0   0   0   0   0   0   0   0   0]]\n"
     ]
    }
   ],
   "source": [
    "ex.numpy_show()"
   ]
  }
 ],
 "metadata": {
  "kernelspec": {
   "display_name": "Python 3 (ipykernel)",
   "language": "python",
   "name": "python3"
  },
  "language_info": {
   "codemirror_mode": {
    "name": "ipython",
    "version": 3
   },
   "file_extension": ".py",
   "mimetype": "text/x-python",
   "name": "python",
   "nbconvert_exporter": "python",
   "pygments_lexer": "ipython3",
   "version": "3.10.6"
  }
 },
 "nbformat": 4,
 "nbformat_minor": 5
}
