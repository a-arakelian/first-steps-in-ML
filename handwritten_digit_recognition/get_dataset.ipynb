{
 "cells": [
  {
   "cell_type": "code",
   "execution_count": 1,
   "id": "6e1cdede-a772-4403-bdd9-1a9e26039de0",
   "metadata": {},
   "outputs": [],
   "source": [
    "from get_dataset import DigitExample, show_array_as_image, jpg2data"
   ]
  },
  {
   "cell_type": "code",
   "execution_count": 2,
   "id": "49402af6-a742-450b-8e8c-e29270694217",
   "metadata": {},
   "outputs": [],
   "source": [
    "ex = DigitExample(['2'])"
   ]
  },
  {
   "cell_type": "code",
   "execution_count": 3,
   "id": "4e11c10f-25de-4e02-b842-2ab3c649354b",
   "metadata": {},
   "outputs": [
    {
     "data": {
      "image/png": "[encoded data removed]",
      "text/plain": [
       "<Figure size 640x480 with 1 Axes>"
      ]
     },
     "metadata": {},
     "output_type": "display_data"
    }
   ],
   "source": [
    "ex.matplot_show(n =1)"
   ]
  },
  {
   "cell_type": "code",
   "execution_count": 4,
   "id": "7ec8595d-13fd-4832-8e0c-c67c66b0ff60",
   "metadata": {},
   "outputs": [
    {
     "name": "stdout",
     "output_type": "stream",
     "text": [
      "The digit is 2\n",
      "[[  5   0  17   5   0   0  18   0   0   8   1   0  14   0   0  10  10   0\n",
      "    0   0   0   5   0   0   0   0   0   0]\n",
      " [ 11   0   0   0  20   4   0  11   0  11   4   0   4   1   2   0   0   0\n",
      "    1   4   1   0   0   5   0   0   0   0]\n",
      " [  0   0   0   0   2  13   0   0  11   0   0  15   0   0  15  14   0   3\n",
      "    0   1   4   0   0   4   0   0   0   0]\n",
      " [  0   0  13   5   0   4   2  30 151 251 255 255 233 102   0   0   2  13\n",
      "    0   0   4   0   0   0   0   0   0   0]\n",
      " [  0  10   0   0   7   0  32 163 255 255 242 248 255 249 166  20   0   7\n",
      "    3   0   1   3   5   0   0   0   0   0]\n",
      " [  0   1   0   0   0   8 158 255 233 163  76  86 180 241 255 147   2   0\n",
      "    7   4   0   0   0   3   0   0   0   0]\n",
      " [  5   1  16   8   0  37 242 242 109  14   0   9   0  37 234 247  83   0\n",
      "    0   2   0   4   0   4   0   0   0   0]\n",
      " [  0   2   0   0   9   0 167 140  14   0   3   0   6   0 182 252 184  15\n",
      "    0   0   0  18   0   5   0   0   0   0]\n",
      " [  0   0   0   0   0   0   0   0   4   0   0   7   0   3   0 255 204   0\n",
      "    0   0   5   0   6   0   0   0   0   0]\n",
      " [  0   0   0   0   0   0   0   0   0  10   0   1  17   3   5 247 211   6\n",
      "    4   5   2   0   3   0   0   0   0   0]\n",
      " [  0   0   0   0   0   0   0   0   0  18   0   0   5   0   0 255 206   0\n",
      "    3   1   0   3   3   0   0   0   0   0]\n",
      " [  0   0   0   0   0   0   0   0   0   3   0  10   0   2   4 255 207   0\n",
      "    0   1   0   7   0   2   0   0   0   0]\n",
      " [  0   0   0   0   0   0   0   0   8   0   0  19   0   8  97 253 202   7\n",
      "    0   7   0   4   0   4   0   0   0   0]\n",
      " [  0   0   0   0   0   0   0   0   3   1   0   0   0   0 220 255 140   5\n",
      "    0   6   1   2   0   7   0   0   0   0]\n",
      " [  0   0   0   0   0   0   0   0   0   9   2   0   0  62 255 233  45   0\n",
      "    0   2   0   1   0   5   0   0   0   0]\n",
      " [  0   0   0   0   0   0   0   0   0   0   3   0  26 187 243 153   0   2\n",
      "    4   6   0   1   1   0   0   0   0   0]\n",
      " [  0   0   0   0   0   0   0   0   0   0   4   0 118 255 235  84  11   0\n",
      "    0   7   5  10   0   0   0   0   0   0]\n",
      " [  0   0   0   0   0   0   0   0   8   9   0  58 245 238 128   0   0   0\n",
      "   33   0   0   8   0   7   0   0   0   0]\n",
      " [  0   0   0   0   0   0   0   0   0   0  15 217 254 227  12  18   5   0\n",
      "  107 157 191 188  70   0   0   0   0   0]\n",
      " [  0   0   0   0   0   0   0   0   4   5 114 255 245 136  61  32 124 202\n",
      "  255 247 245 246 212  49   0   0   0   0]\n",
      " [  0   0   0   0   0   0   0   0   1   0 255 233 255 242 255 253 235 255\n",
      "  242 254 229 185 237 157   0   0   0   0]\n",
      " [  0   0   0   0   0   0   0   0   0  62 237 255 252 248 246 254 255 245\n",
      "  183  96  11   0  40  29   0   0   0   0]\n",
      " [  0   0   0   0   0   0   0   0   0   2 141 201 255 255 190 196 135  51\n",
      "    5   7   3   3   0   0   0   0   0   0]\n",
      " [  0   0   0   0   0   0   0   0   6   0   3   0   1   0  13   0   0   5\n",
      "    0   4   0  10   1   0   0   0   0   0]\n",
      " [  0   0   0   0   0   0   0   0   0   0   0   0   0   0   0   0   0   0\n",
      "    0   0   0   0   0   0   0   0   0   0]\n",
      " [  0   0   0   0   0   0   0   0   0   0   0   0   0   0   0   0   0   0\n",
      "    0   0   0   0   0   0   0   0   0   0]\n",
      " [  0   0   0   0   0   0   0   0   0   0   0   0   0   0   0   0   0   0\n",
      "    0   0   0   0   0   0   0   0   0   0]\n",
      " [  0   0   0   0   0   0   0   0   0   0   0   0   0   0   0   0   0   0\n",
      "    0   0   0   0   0   0   0   0   0   0]]\n"
     ]
    }
   ],
   "source": [
    "ex.numpy_show(n = 1)"
   ]
  },
  {
   "cell_type": "code",
   "execution_count": 5,
   "id": "c0041bfa-8f4f-42e8-95b6-7d502d1b9977",
   "metadata": {},
   "outputs": [],
   "source": [
    "X_data, Y_target = jpg2data(N = 5000)"
   ]
  },
  {
   "cell_type": "code",
   "execution_count": 8,
   "id": "47c8d921-d274-4917-b6fc-fadc1ac07fcf",
   "metadata": {},
   "outputs": [
    {
     "name": "stdout",
     "output_type": "stream",
     "text": [
      "0\n"
     ]
    },
    {
     "data": {
      "image/png": "[encoded data removed]",
      "text/plain": [
       "<Figure size 640x480 with 1 Axes>"
      ]
     },
     "metadata": {},
     "output_type": "display_data"
    }
   ],
   "source": [
    "show_array_as_image(X_data[1586].reshape(28, 28), Y_target[1586])"
   ]
  },
  {
   "cell_type": "code",
   "execution_count": 9,
   "id": "d9be9409-95d1-4ddb-be90-9c9ae9fbf9dc",
   "metadata": {},
   "outputs": [
    {
     "data": {
      "text/plain": [
       "(784,)"
      ]
     },
     "execution_count": 9,
     "metadata": {},
     "output_type": "execute_result"
    }
   ],
   "source": [
    "X_data[1586].shape"
   ]
  },
  {
   "cell_type": "code",
   "execution_count": 41,
   "id": "6d2878b5-91bb-4878-983d-ff5bf543b5d7",
   "metadata": {},
   "outputs": [
    {
     "name": "stdout",
     "output_type": "stream",
     "text": [
      "[[0.4557145  0.38640802]] \n",
      "\n",
      " [[0.27617931 0.48709743]\n",
      " [0.20731446 0.33310746]\n",
      " [0.68052666 0.1388884 ]\n",
      " [0.40902602 0.52952125]]\n"
     ]
    }
   ],
   "source": [
    "import numpy as np\n",
    "A =  np.random.rand(1,2)\n",
    "v =  np.random.rand(4, 2)\n",
    "print(A, \"\\n\\n\", v)"
   ]
  },
  {
   "cell_type": "code",
   "execution_count": 15,
   "id": "d6825e15-c6f9-4e31-8cb4-acf39b94ebc9",
   "metadata": {},
   "outputs": [
    {
     "data": {
      "text/plain": [
       "array([1.18565709, 0.84450703, 1.36269572])"
      ]
     },
     "execution_count": 15,
     "metadata": {},
     "output_type": "execute_result"
    }
   ],
   "source": [
    "A.dot(v.T)"
   ]
  },
  {
   "cell_type": "code",
   "execution_count": 16,
   "id": "1e9cc22f-77b6-4936-99d2-0ef96dfa97d4",
   "metadata": {},
   "outputs": [
    {
     "data": {
      "text/plain": [
       "array([1.18565709, 0.84450703, 1.36269572])"
      ]
     },
     "execution_count": 16,
     "metadata": {},
     "output_type": "execute_result"
    }
   ],
   "source": [
    "A.dot(v)"
   ]
  },
  {
   "cell_type": "code",
   "execution_count": 58,
   "id": "c08f692e-6f96-4027-b998-55e0caaeac29",
   "metadata": {},
   "outputs": [
    {
     "name": "stdout",
     "output_type": "stream",
     "text": [
      "[[0.17558507 0.08598235 0.09228023 0.59004609 0.17091244]\n",
      " [0.87500132 0.07635173 0.72564895 0.59440993 0.4513181 ]]\n",
      "[[1.         1.         1.         1.         1.        ]\n",
      " [0.17558507 0.08598235 0.09228023 0.59004609 0.17091244]\n",
      " [0.87500132 0.07635173 0.72564895 0.59440993 0.4513181 ]]\n"
     ]
    }
   ],
   "source": [
    "v_1 =  np.random.rand(2, 5)\n",
    "print(v_1)\n",
    "b = np.ones((v_1.shape[0] + 1, v_1.shape[1]))\n",
    "b[1:,:] = v_1\n",
    "print(b)"
   ]
  },
  {
   "cell_type": "code",
   "execution_count": 33,
   "id": "06bdb490-f570-42d1-8b7c-534ee5ec5016",
   "metadata": {},
   "outputs": [
    {
     "data": {
      "text/plain": [
       "(2, 10)"
      ]
     },
     "execution_count": 33,
     "metadata": {},
     "output_type": "execute_result"
    }
   ],
   "source": [
    "(A@v_1).shape"
   ]
  },
  {
   "cell_type": "code",
   "execution_count": 46,
   "id": "ab3a8d7e-24fa-4d37-86e2-de000f1ded5a",
   "metadata": {},
   "outputs": [
    {
     "data": {
      "text/plain": [
       "array([[0.31215111, 0.37572882, 0.49664487, 0.36334733, 0.34754344]])"
      ]
     },
     "execution_count": 46,
     "metadata": {},
     "output_type": "execute_result"
    }
   ],
   "source": [
    "(A@v_1)"
   ]
  },
  {
   "cell_type": "code",
   "execution_count": 63,
   "id": "b07ddcaf-52a5-4aed-8265-4f58910fd69e",
   "metadata": {},
   "outputs": [],
   "source": [
    "activation = lambda x: (1/ (np.exp(-x) + 1))"
   ]
  },
  {
   "cell_type": "code",
   "execution_count": 64,
   "id": "e6f0639d-f5d5-4524-ac91-c33695159252",
   "metadata": {},
   "outputs": [
    {
     "data": {
      "text/plain": [
       "array([[0.54378384, 0.52148235, 0.5230537 , 0.64337572, 0.5426244 ],\n",
       "       [0.7057853 , 0.51907866, 0.67384974, 0.64437635, 0.61095258]])"
      ]
     },
     "execution_count": 64,
     "metadata": {},
     "output_type": "execute_result"
    }
   ],
   "source": [
    "activation(v_1)"
   ]
  },
  {
   "cell_type": "code",
   "execution_count": 65,
   "id": "7d8b060f-aeca-4fc0-a0e2-353c4b400397",
   "metadata": {},
   "outputs": [
    {
     "data": {
      "text/plain": [
       "array([[0.17558507, 0.08598235, 0.09228023, 0.59004609, 0.17091244],\n",
       "       [0.87500132, 0.07635173, 0.72564895, 0.59440993, 0.4513181 ]])"
      ]
     },
     "execution_count": 65,
     "metadata": {},
     "output_type": "execute_result"
    }
   ],
   "source": [
    "v_1"
   ]
  },
  {
   "cell_type": "code",
   "execution_count": 66,
   "id": "755da53b-eefa-4247-9317-6187bde76a04",
   "metadata": {},
   "outputs": [
    {
     "data": {
      "text/plain": [
       "0.5437838368577314"
      ]
     },
     "execution_count": 66,
     "metadata": {},
     "output_type": "execute_result"
    }
   ],
   "source": [
    "activation(0.17558507)"
   ]
  },
  {
   "cell_type": "code",
   "execution_count": null,
   "id": "69826609-0b29-4c2f-8be2-0d3678e2cd45",
   "metadata": {},
   "outputs": [],
   "source": []
  }
 ],
 "metadata": {
  "kernelspec": {
   "display_name": "Python 3 (ipykernel)",
   "language": "python",
   "name": "python3"
  },
  "language_info": {
   "codemirror_mode": {
    "name": "ipython",
    "version": 3
   },
   "file_extension": ".py",
   "mimetype": "text/x-python",
   "name": "python",
   "nbconvert_exporter": "python",
   "pygments_lexer": "ipython3",
   "version": "3.10.6"
  }
 },
 "nbformat": 4,
 "nbformat_minor": 5
}
