{
 "cells": [
  {
   "cell_type": "code",
   "execution_count": 1,
   "id": "6e1cdede-a772-4403-bdd9-1a9e26039de0",
   "metadata": {},
   "outputs": [],
   "source": [
    "from get_dataset import DigitExample"
   ]
  },
  {
   "cell_type": "code",
   "execution_count": 2,
   "id": "49402af6-a742-450b-8e8c-e29270694217",
   "metadata": {},
   "outputs": [],
   "source": [
    "ex = DigitExample(['4'])"
   ]
  },
  {
   "cell_type": "code",
   "execution_count": 3,
   "id": "4e11c10f-25de-4e02-b842-2ab3c649354b",
   "metadata": {},
   "outputs": [
    {
     "data": {
      "image/png": "[encoded data removed]",
      "text/plain": [
       "<Figure size 640x480 with 1 Axes>"
      ]
     },
     "metadata": {},
     "output_type": "display_data"
    }
   ],
   "source": [
    "ex.matplot_show()"
   ]
  },
  {
   "cell_type": "code",
   "execution_count": 4,
   "id": "7ec8595d-13fd-4832-8e0c-c67c66b0ff60",
   "metadata": {},
   "outputs": [
    {
     "name": "stdout",
     "output_type": "stream",
     "text": [
      "The digit is 4\n",
      "[[  0   0   0   0   0   0   0   0   0   0   5   4   2   0  13   0   0   4\n",
      "    0   0   1  10   0   2   0   0   0   0]\n",
      " [  0   0   0   0   0   0   0   0   5   2   0   0   0   0   0  10   0   0\n",
      "   12   0   6   0   0   2   0   0   0   0]\n",
      " [  0   0   0   0   0   0   0   0   0   9   8   0  11  19   0   0   0   0\n",
      "    0   9   4  11   4   0   0   0   0   0]\n",
      " [  0   0   0   0   0   0   0   0   1   0  11   0   0   0   3   0   0  14\n",
      "    0   0   7   0   0  15   0   0   0   0]\n",
      " [  0   0   0   0   0   0   0   0  12   0   4  12   3   0   1   1   0   0\n",
      "   81 252  42  24   4   0   0   0   0   0]\n",
      " [  0   0   0   0   0   0   0   0   0   7   0  15   0   6   9   0   0  16\n",
      "  178 241 156   0   6   2   0   0   0   0]\n",
      " [  0   0   0   0   0   0   0   0   0  18   0   0  22   0  11   0   9 105\n",
      "  236 255 135   0  14   0   0   0   0   0]\n",
      " [  0   0   0   0   0   0   0   0   0   0   9  55 179   0   0   2  30 220\n",
      "  255 250   2   1   0   1   0   0   0   0]\n",
      " [  0   7   5   0   0   0   0   0   2   0  18 127 255  62   0   0 145 255\n",
      "  255  95   0   7   3   0   0   0   0   0]\n",
      " [  1   0   0   0   7   9   3   0   0   4  33 247 252  88   2  18 223 236\n",
      "  216  42   0   6   4   1   0   0   0   0]\n",
      " [  7   0   0   2   2   1   0   0   3   0 126 255 255  26   4  97 255 247\n",
      "  141   6   0   5   0   0   0   0   0   0]\n",
      " [  1   0   1   1   0   0   4   1   0  52 242 246 217   0   6 207 246 253\n",
      "   41   0   0   3   2  11   0   0   0   0]\n",
      " [  0   0   5   0   0   4   8   1  18 183 255 239  93   7  66 255 239 180\n",
      "    1   6   4   0   0   0   0   0   0   0]\n",
      " [  0   7   0   0   7   6   0   0 110 255 239 104   0   0 193 250 255  58\n",
      "    1   3   0   0   0   6   0   0   0   0]\n",
      " [  1  10   0   0  10   0   0  31 211 255 203   9   5  30 255 245 217  15\n",
      "   26  15  18  16   0   1   0   0   0   0]\n",
      " [  0   7   0   0  12   0  13 108 246 255 190  91  97 175 229 255 254 205\n",
      "  246 255 249 175  25   0   0   0   0   0]\n",
      " [  7   4   0   0   8   0   6 111 247 255 255 238 255 255 254 248 255 241\n",
      "  255 255 255 176  30   0   0   0   0   0]\n",
      " [  0   2   4   0   8   0   0  57 163 241 237 255 246 243 255 184 131 118\n",
      "  126  81  35   5   0  20   0   0   0   0]\n",
      " [  0   1   6   0   3   5   0   7   0  56  78 184 243 255 190   4  14   0\n",
      "    9   1   0   7   0   4   0   0   0   0]\n",
      " [  1   0   2   0   0   5   3   0  12   0   0  42 255 236  15   8   1   0\n",
      "    7   6   0  11   2   0   0   0   0   0]\n",
      " [  6   0   0   4   0   0   8   3   0   2  40 239 255  19   0   7   9   0\n",
      "    9   0   0   0   2   0   0   0   0   0]\n",
      " [  2   0   0   9   2   0   3   1   5   0  91 250 144   0   0   0   0   0\n",
      "    0   1   9  17   9   0   0   0   0   0]\n",
      " [  0   4   0   5   4   0   2   0   0  68 224 223   3   0  35   0   0   9\n",
      "    5   3   0   0   0   0   0   0   0   0]\n",
      " [  0  12   0   0   2   0   8   0   0 129 255 118   8   6   0   1   0   3\n",
      "    0   0  11   0   0   7   0   0   0   0]\n",
      " [  0   0   0   0   0   0   0   0   0   0   0   0   0   0   0   0   0   0\n",
      "    0   0   0   0   0   0   0   0   0   0]\n",
      " [  0   0   0   0   0   0   0   0   0   0   0   0   0   0   0   0   0   0\n",
      "    0   0   0   0   0   0   0   0   0   0]\n",
      " [  0   0   0   0   0   0   0   0   0   0   0   0   0   0   0   0   0   0\n",
      "    0   0   0   0   0   0   0   0   0   0]\n",
      " [  0   0   0   0   0   0   0   0   0   0   0   0   0   0   0   0   0   0\n",
      "    0   0   0   0   0   0   0   0   0   0]]\n"
     ]
    }
   ],
   "source": [
    "ex.numpy_show()"
   ]
  },
  {
   "cell_type": "code",
   "execution_count": 5,
   "id": "3444413b-ceac-490f-8834-21f0946b5e91",
   "metadata": {},
   "outputs": [],
   "source": [
    "from get_dataset import from_dataset_jpgs2array, show_array_as_image"
   ]
  },
  {
   "cell_type": "code",
   "execution_count": 6,
   "id": "c0041bfa-8f4f-42e8-95b6-7d502d1b9977",
   "metadata": {},
   "outputs": [],
   "source": [
    "digit_arrays = from_dataset_jpgs2array(N = 1000)"
   ]
  },
  {
   "cell_type": "code",
   "execution_count": 7,
   "id": "47c8d921-d274-4917-b6fc-fadc1ac07fcf",
   "metadata": {},
   "outputs": [],
   "source": [
    "ex_7 = digit_arrays[7][150]"
   ]
  },
  {
   "cell_type": "code",
   "execution_count": null,
   "id": "ebbf98aa-831a-45b6-a81d-b203be6bc123",
   "metadata": {},
   "outputs": [
    {
     "data": {
      "text/plain": [
       "array([[  0,   0,   0,   0,   0,   0,   0,   0,   0,   0,   0,   4,   5,\n",
       "          0,   0,  10,   2,   2,   1,   0,  16,   2,   1,   0,   0,   0,\n",
       "          0,   0],\n",
       "       [  0,   0,   0,   0,   0,   0,   0,   0,   0,   5,   1,   0,   4,\n",
       "         11,   3,   0,   0,   0,   6,   3,   0,   0,   0,   0,   0,   0,\n",
       "          0,   0],\n",
       "       [  0,   0,   0,   0,   0,   0,   0,   0,   0,   0,   0,   0,   0,\n",
       "          0,   0,   0,  11,   0,   0,   5,   0,   2,  12,   2,   0,   0,\n",
       "          0,   0],\n",
       "       [  0,   0,   0,   0,   0,   0,   0,   0,   1,   0,   1,   1,   0,\n",
       "          0,   6,  10,   4,   0,   0,   0,   2,   0,   3,   0,   0,   0,\n",
       "          0,   0],\n",
       "       [  0,   0,   0,   0,   0,   0,   0,   0,   5,   4,   5,   0,   0,\n",
       "          0,   2,   0,   0,   4,  14,   0,  21,   0,   0,   0,   0,   0,\n",
       "          0,   0],\n",
       "       [  0,   0,   0,   0,   0,   0,   0,   0,   0,   0,   2,  19,   3,\n",
       "          0,   8,  11,   5,   0,   0,   0,  10,   2,   5,   6,   0,   0,\n",
       "          0,   0],\n",
       "       [  0,   0,   0,   0,   0,   0,   0,   0,  17,   0,   0,   0,   0,\n",
       "          0,   7,   0,   3,   0,   7,  24,   0,   0,   3,   0,   0,   0,\n",
       "          0,   0],\n",
       "       [  0,   0,   0,   0,   0,   0,   0,   0,   0,   6,   2,   0,  80,\n",
       "        237, 255, 155,   0,  40, 106, 150,   2,   1,   2,   0,   0,   0,\n",
       "          0,   0],\n",
       "       [  0,   0,   0,   0,   0,   0,   0,   0,   1,   0,   0,   0, 233,\n",
       "        249, 255, 226, 220, 254, 255, 160,   0,   3,   3,   0,   0,   0,\n",
       "          0,   0],\n",
       "       [  0,   0,   0,   0,   0,   0,   0,   0,   0,  10,   0, 131, 255,\n",
       "        246, 244, 255, 225, 236, 255, 125,  24,   0,   0,   6,   0,   0,\n",
       "          0,   0],\n",
       "       [  0,   0,   0,   0,   0,   0,   0,   0,   0,  11,   0, 205, 243,\n",
       "        254, 187,  57,  41, 216, 228,  23,   0,   0,  10,   0,   0,   0,\n",
       "          0,   0],\n",
       "       [  0,   0,   0,   0,   0,   0,   0,   0,   0,   0,   2, 205, 247,\n",
       "        127,   0,   0, 153, 255, 110,   0,   9,   0,   0,   0,   0,   0,\n",
       "          0,   0],\n",
       "       [  0,   0,   0,   0,   0,   0,   0,   0,   0,   0,   3,   6,   0,\n",
       "          6,   0,  78, 248, 194,   0,   0,  10,   0,   0,  16,   0,   0,\n",
       "          0,   0],\n",
       "       [  0,   0,   0,   0,   0,   0,   0,   0,   0,  14,   0,   0,   6,\n",
       "         12,  24, 216, 245,  87,  16,  15,   0,   1,  12,   0,   0,   0,\n",
       "          0,   0],\n",
       "       [  0,   0,   0,   0,   0,   0,   0,   0,   8,   0,   0,  29,   0,\n",
       "          0, 136, 247, 160,   0,   0,   0,   0,  11,   8,   0,   0,   0,\n",
       "          0,   0],\n",
       "       [  0,   0,   0,   0,   0,   0,   0,   0,   0,   6,   2,   0,   0,\n",
       "         26, 253, 206,   7,   0,   8,   3,   6,   4,   0,  10,   0,   0,\n",
       "          0,   0],\n",
       "       [  0,   0,   0,   0,   0,   0,   1,   1,   0,   0,  19,   0,   0,\n",
       "        167, 255,  89,   0,   0,   0,   0,   0,   0,   0,   0,   0,   0,\n",
       "          0,   0],\n",
       "       [  2,   2,   2,   3,   5,   7,   9,  10,  15,   0,   0,  15,  55,\n",
       "        231, 218,   5,   0,   0,   0,   0,   0,   0,   0,   0,   0,   0,\n",
       "          0,   0],\n",
       "       [  0,   0,   0,   1,   2,   4,   6,   7,   0,   0,   2,   0, 163,\n",
       "        255,  57,   0,   0,   0,   0,   0,   0,   0,   0,   0,   0,   0,\n",
       "          0,   0],\n",
       "       [  0,   0,   0,   0,   0,   0,   0,   0,  10,   0,  20,  64, 236,\n",
       "        200,   5,   8,   0,   0,   0,   0,   0,   0,   0,   0,   0,   0,\n",
       "          0,   0],\n",
       "       [  3,   3,   2,   1,   0,   0,   1,   1,   3,   4,   2, 180, 248,\n",
       "         58,  15,   0,   0,   0,   0,   0,   0,   0,   0,   0,   0,   0,\n",
       "          0,   0],\n",
       "       [  1,   0,   0,   1,   2,   3,   4,   5,   0,  15,  78, 255, 162,\n",
       "          0,   0,   0,   0,   0,   0,   0,   0,   0,   0,   0,   0,   0,\n",
       "          0,   0],\n",
       "       [  0,   0,   0,   0,   0,   0,   1,   2,  10,  16, 223, 255,  35,\n",
       "          0,  15,   0,   0,   0,   0,   0,   0,   0,   0,   0,   0,   0,\n",
       "          0,   0],\n",
       "       [  3,   2,   1,   0,   0,   0,   0,   0,   0,  84, 255, 133,   4,\n",
       "         12,   0,   0,   0,   0,   0,   0,   0,   0,   0,   0,   0,   0,\n",
       "          0,   0],\n",
       "       [  0,   0,   0,   0,   0,   0,   0,   0,  15, 200, 255,  74,  15,\n",
       "          0,  15,   0,   0,   0,   0,   0,   0,   0,   0,   0,   0,   0,\n",
       "          0,   0],\n",
       "       [  0,   0,   0,   0,   0,   0,   0,   0,  24, 255, 160,   0,   0,\n",
       "         12,   0,   4,   0,   0,   0,   0,   0,   0,   0,   0,   0,   0,\n",
       "          0,   0],\n",
       "       [  0,   0,   0,   0,   0,   0,   0,   0,  17, 195,  22,   0,   1,\n",
       "          0,  13,   0,   0,   0,   0,   0,   0,   0,   0,   0,   0,   0,\n",
       "          0,   0],\n",
       "       [  0,   0,   0,   0,   0,   0,   0,   0,  14,   0,   7,  11,   0,\n",
       "          2,   0,   8,   0,   0,   0,   0,   0,   0,   0,   0,   0,   0,\n",
       "          0,   0]], dtype=uint8)"
      ]
     },
     "execution_count": 8,
     "metadata": {},
     "output_type": "execute_result"
    }
   ],
   "source": [
    "show_array_as_image(ex_7)\n",
    "ex_7"
   ]
  },
  {
   "cell_type": "code",
   "execution_count": null,
   "id": "1f8d913b-4dcd-4e61-9bcd-467725f17bec",
   "metadata": {},
   "outputs": [],
   "source": [
    "import pandas as pd"
   ]
  },
  {
   "cell_type": "code",
   "execution_count": null,
   "id": "a3274f6d-6316-42db-af1f-0385da07b016",
   "metadata": {},
   "outputs": [],
   "source": [
    "df = pd.DataFrame.from_dict(digit_arrays)"
   ]
  },
  {
   "cell_type": "code",
   "execution_count": null,
   "id": "37d45201-7aeb-4eb3-86d5-6e0de5312a3e",
   "metadata": {},
   "outputs": [],
   "source": [
    "df"
   ]
  },
  {
   "cell_type": "code",
   "execution_count": null,
   "id": "69f9df79-3c27-465e-a03b-5dac76896b7e",
   "metadata": {},
   "outputs": [],
   "source": []
  }
 ],
 "metadata": {
  "kernelspec": {
   "display_name": "Python 3 (ipykernel)",
   "language": "python",
   "name": "python3"
  },
  "language_info": {
   "codemirror_mode": {
    "name": "ipython",
    "version": 3
   },
   "file_extension": ".py",
   "mimetype": "text/x-python",
   "name": "python",
   "nbconvert_exporter": "python",
   "pygments_lexer": "ipython3",
   "version": "3.10.6"
  }
 },
 "nbformat": 4,
 "nbformat_minor": 5
}
